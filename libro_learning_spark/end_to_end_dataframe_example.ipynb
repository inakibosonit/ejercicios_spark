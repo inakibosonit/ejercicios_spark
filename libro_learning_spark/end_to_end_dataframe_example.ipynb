{
 "cells": [
  {
   "cell_type": "markdown",
   "id": "40d3471b",
   "metadata": {},
   "source": [
    "¿Cuáles fueron los diferentes tipos de llamadas de incendio en 2018?"
   ]
  },
  {
   "cell_type": "code",
   "execution_count": 1,
   "id": "80ae856b",
   "metadata": {},
   "outputs": [],
   "source": [
    "from pyspark.sql.types import *\n",
    "from pyspark.sql.functions import * \n",
    "from pyspark.sql import SparkSession\n",
    "\n",
    "spark = (SparkSession \n",
    "        .builder\n",
    "        .appName(\"projections_and_filters\")\n",
    "        .getOrCreate())"
   ]
  },
  {
   "cell_type": "code",
   "execution_count": 2,
   "id": "758b51f1",
   "metadata": {},
   "outputs": [],
   "source": [
    "sf_fire_file = \"./sf-fire-calls.csv\""
   ]
  },
  {
   "cell_type": "code",
   "execution_count": 3,
   "id": "096162f0",
   "metadata": {},
   "outputs": [],
   "source": [
    "fire_df = spark.read.csv(sf_fire_file, header=True)"
   ]
  },
  {
   "cell_type": "code",
   "execution_count": 4,
   "id": "fcf5a7e2",
   "metadata": {},
   "outputs": [
    {
     "name": "stdout",
     "output_type": "stream",
     "text": [
      "+-----------------------------+\n",
      "|CallType                     |\n",
      "+-----------------------------+\n",
      "|Elevator / Escalator Rescue  |\n",
      "|Alarms                       |\n",
      "|Odor (Strange / Unknown)     |\n",
      "|Citizen Assist / Service Call|\n",
      "|HazMat                       |\n",
      "|Vehicle Fire                 |\n",
      "|Other                        |\n",
      "|Outside Fire                 |\n",
      "|Traffic Collision            |\n",
      "|Assist Police                |\n",
      "+-----------------------------+\n",
      "only showing top 10 rows\n",
      "\n"
     ]
    }
   ],
   "source": [
    "(fire_df\n",
    ".select(\"CallType\")\n",
    ".where(year(to_timestamp(col(\"CallDate\"), \"MM/dd/yyyy\")) == 2018)\n",
    ".distinct()\n",
    ".show(10, False))"
   ]
  },
  {
   "cell_type": "markdown",
   "id": "0a730efc",
   "metadata": {},
   "source": [
    "¿En qué meses del año 2018 se registró el mayor número de llamadas de incendios?"
   ]
  },
  {
   "cell_type": "code",
   "execution_count": 10,
   "id": "476fb609",
   "metadata": {},
   "outputs": [
    {
     "name": "stdout",
     "output_type": "stream",
     "text": [
      "+---+-----+\n",
      "|mes|count|\n",
      "+---+-----+\n",
      "|10 |1068 |\n",
      "|5  |1047 |\n",
      "|3  |1029 |\n",
      "|8  |1021 |\n",
      "|1  |1007 |\n",
      "|7  |974  |\n",
      "|6  |974  |\n",
      "|9  |951  |\n",
      "|4  |947  |\n",
      "|2  |919  |\n",
      "+---+-----+\n",
      "only showing top 10 rows\n",
      "\n"
     ]
    }
   ],
   "source": [
    "(fire_df\n",
    ".select(month(to_timestamp(col(\"CallDate\"), \"MM/dd/yyyy\")).alias('mes'))\n",
    ".where(year(to_timestamp(col(\"CallDate\"), \"MM/dd/yyyy\")) == 2018)\n",
    ".groupBy('mes')\n",
    ".count()\n",
    ".orderBy(\"count\", ascending=False)\n",
    ".show(n=10, truncate=False))"
   ]
  },
  {
   "cell_type": "markdown",
   "id": "ed6d473a",
   "metadata": {},
   "source": [
    "¿Qué vecindario de San Francisco generó la mayor cantidad de llamadas de incendio en 2018?"
   ]
  },
  {
   "cell_type": "code",
   "execution_count": 7,
   "id": "1ab6eea1",
   "metadata": {},
   "outputs": [
    {
     "data": {
      "text/plain": [
       "[Row(Neighborhood='Tenderloin', count=1393)]"
      ]
     },
     "execution_count": 7,
     "metadata": {},
     "output_type": "execute_result"
    }
   ],
   "source": [
    "(fire_df\n",
    ".select('Neighborhood')\n",
    ".where(year(to_timestamp(col(\"CallDate\"), \"MM/dd/yyyy\")) == 2018)\n",
    ".groupBy('Neighborhood')\n",
    ".count()\n",
    ".orderBy(\"count\", ascending=False)\n",
    ".take(1))"
   ]
  },
  {
   "cell_type": "markdown",
   "id": "18c8c34b",
   "metadata": {},
   "source": [
    "¿Qué vecindarios tuvieron los peores tiempos de respuesta a las llamadas de incendios en 2018?"
   ]
  },
  {
   "cell_type": "code",
   "execution_count": 8,
   "id": "8e8c1f52",
   "metadata": {},
   "outputs": [
    {
     "name": "stdout",
     "output_type": "stream",
     "text": [
      "+--------------------+------------------+\n",
      "|        Neighborhood|          promedio|\n",
      "+--------------------+------------------+\n",
      "|           Chinatown| 6.190314097905762|\n",
      "|            Presidio|5.8292270414492755|\n",
      "|     Treasure Island|      5.4537037125|\n",
      "|        McLaren Park| 4.744047642857142|\n",
      "|Bayview Hunters P...|4.6205619568773955|\n",
      "|    Presidio Heights| 4.594131472394366|\n",
      "|        Inner Sunset| 4.438095199935065|\n",
      "|      Inner Richmond| 4.364728682713178|\n",
      "|Financial Distric...| 4.344084618290156|\n",
      "|      Haight Ashbury| 4.266428599285714|\n",
      "+--------------------+------------------+\n",
      "only showing top 10 rows\n",
      "\n"
     ]
    }
   ],
   "source": [
    "(fire_df\n",
    ".where(year(to_timestamp(col(\"CallDate\"), \"MM/dd/yyyy\")) == 2018)\n",
    ".groupBy('Neighborhood')\n",
    ".agg(avg(\"Delay\").alias(\"promedio\"))\n",
    ".orderBy('promedio', ascending=False)\n",
    ".show(10))"
   ]
  },
  {
   "cell_type": "markdown",
   "id": "ce96a3bd",
   "metadata": {},
   "source": [
    "¿Qué semana del año 2018 tuvo más llamadas de incendio?"
   ]
  },
  {
   "cell_type": "code",
   "execution_count": 11,
   "id": "492f35c1",
   "metadata": {},
   "outputs": [
    {
     "name": "stdout",
     "output_type": "stream",
     "text": [
      "+--------------+-----+\n",
      "|semana del año|count|\n",
      "+--------------+-----+\n",
      "|            25|   31|\n",
      "|             8|   30|\n",
      "|             1|   29|\n",
      "|            43|   29|\n",
      "|            11|   28|\n",
      "|            26|   27|\n",
      "|            18|   27|\n",
      "|            38|   27|\n",
      "|            40|   27|\n",
      "|            27|   25|\n",
      "+--------------+-----+\n",
      "only showing top 10 rows\n",
      "\n"
     ]
    }
   ],
   "source": [
    "(fire_df\n",
    ".where(year(to_timestamp(col(\"CallDate\"), \"MM/dd/yyyy\")) == 2018)\n",
    ".where( col('CallType') =='Structure Fire')\n",
    ".groupBy(weekofyear((to_timestamp(col(\"CallDate\"),\"MM/dd/yyyy\" ))).alias(\"semana del año\"))\n",
    ".count().alias(\"numero llamadas\")\n",
    ".orderBy('count', ascending=False)\n",
    ".show(10))"
   ]
  },
  {
   "cell_type": "markdown",
   "id": "c2f1c746",
   "metadata": {},
   "source": [
    "¿Existe una correlación entre el vecindario, el código postal y el número de llamadas de incendio?"
   ]
  },
  {
   "cell_type": "code",
   "execution_count": 24,
   "id": "8d48c1e1",
   "metadata": {},
   "outputs": [
    {
     "name": "stdout",
     "output_type": "stream",
     "text": [
      "+--------------------+-------+-----+\n",
      "|        Neighborhood|Zipcode|count|\n",
      "+--------------------+-------+-----+\n",
      "|          Tenderloin|  94102|17084|\n",
      "|     South of Market|  94103|13762|\n",
      "|             Mission|  94110|10444|\n",
      "|Bayview Hunters P...|  94124| 9150|\n",
      "|             Mission|  94103| 5445|\n",
      "|          Tenderloin|  94109| 5377|\n",
      "|Financial Distric...|  94105| 4235|\n",
      "|      Outer Richmond|  94121| 4121|\n",
      "|            Nob Hill|  94109| 3983|\n",
      "| Castro/Upper Market|  94114| 3946|\n",
      "+--------------------+-------+-----+\n",
      "only showing top 10 rows\n",
      "\n"
     ]
    }
   ],
   "source": [
    "(fire_df\n",
    ".groupBy(\"Neighborhood\", \"Zipcode\")\n",
    ".count()\n",
    ".orderBy('count', ascending=False)\n",
    ".show(10))"
   ]
  },
  {
   "cell_type": "markdown",
   "id": "d409eb36",
   "metadata": {},
   "source": [
    "¿Cómo podemos usar archivos Parquet o tablas SQL para almacenar estos datos y volver a leerlos?"
   ]
  },
  {
   "cell_type": "markdown",
   "id": "384211c7",
   "metadata": {},
   "source": [
    "val parquetPath = ...\n",
    "fireDF.write.format(\"parquet\").save(parquetPath)"
   ]
  },
  {
   "cell_type": "markdown",
   "id": "632be9ed",
   "metadata": {},
   "source": [
    "parDF1=spark.read.parquet(\"/temp/out/people.parquet\")"
   ]
  }
 ],
 "metadata": {
  "kernelspec": {
   "display_name": "Python 3 (ipykernel)",
   "language": "python",
   "name": "python3"
  },
  "language_info": {
   "codemirror_mode": {
    "name": "ipython",
    "version": 3
   },
   "file_extension": ".py",
   "mimetype": "text/x-python",
   "name": "python",
   "nbconvert_exporter": "python",
   "pygments_lexer": "ipython3",
   "version": "3.9.7"
  }
 },
 "nbformat": 4,
 "nbformat_minor": 5
}
