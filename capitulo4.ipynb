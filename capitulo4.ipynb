{
 "cells": [
  {
   "cell_type": "markdown",
   "id": "06b13d86-162b-424c-9399-fe593378a822",
   "metadata": {},
   "source": [
    "Capítulo 4"
   ]
  },
  {
   "cell_type": "code",
   "execution_count": 2,
   "id": "2eab20e0-09a7-47b4-844e-fca82c87a2b4",
   "metadata": {},
   "outputs": [],
   "source": [
    "import sys\n",
    "from pyspark.sql import SparkSession"
   ]
  },
  {
   "cell_type": "code",
   "execution_count": 3,
   "id": "955a94e9-c037-46e6-84e3-f32a8d5022b9",
   "metadata": {},
   "outputs": [],
   "source": [
    "spark = (SparkSession.builder.appName(\"capitulo3\").getOrCreate())"
   ]
  },
  {
   "cell_type": "markdown",
   "id": "fd6033e4-b8aa-477a-a69d-2d69c0decb11",
   "metadata": {},
   "source": [
    "Leer los archivos AVRO"
   ]
  },
  {
   "cell_type": "code",
   "execution_count": 4,
   "id": "5064b774-ca2d-422f-b59c-adb82408de90",
   "metadata": {},
   "outputs": [],
   "source": [
    "csv_file_avro = \"gs://bosonit_spark/archivos/summary-data/avro/*\""
   ]
  },
  {
   "cell_type": "code",
   "execution_count": 6,
   "id": "91fe2b9f-40e8-45c1-937a-b9caa32b5b2b",
   "metadata": {},
   "outputs": [],
   "source": [
    "#NO FUNCIONA DEBIDO A LA VERSION DE SPOOK EL EJEMPLO ESTA HECHO CON INTELLIJ\n",
    "#df1 = (spark.read.format(\"avro\").load(csv_file_avro))"
   ]
  },
  {
   "cell_type": "markdown",
   "id": "7f0778c2-4697-4042-8f7b-2c1518cea554",
   "metadata": {},
   "source": [
    "Leer los archivos CSV"
   ]
  },
  {
   "cell_type": "code",
   "execution_count": 15,
   "id": "3180f9bf-044d-4144-89a4-6c4d5383003f",
   "metadata": {},
   "outputs": [],
   "source": [
    "csv_file_csv = \"gs://bosonit_spark/archivos/fire_calls.csv/*\""
   ]
  },
  {
   "cell_type": "code",
   "execution_count": 16,
   "id": "d5249606-17cc-4206-89e6-f6be4d984a01",
   "metadata": {},
   "outputs": [],
   "source": [
    "df2 = (spark.read.format(\"csv\").load(csv_file_csv))"
   ]
  },
  {
   "cell_type": "code",
   "execution_count": 17,
   "id": "9fa35811-0bee-487a-92d1-06d50ef80b05",
   "metadata": {},
   "outputs": [
    {
     "name": "stdout",
     "output_type": "stream",
     "text": [
      "+--------+---+-------+----------------+----------+----------+-----+--------------------+--------------------+---+-----+----+----+----+----+----+----+-----+----+----+--------------+----+----+----+--------------------+--------------------+-------------+---------+\n",
      "|     _c0|_c1|    _c2|             _c3|       _c4|       _c5|  _c6|                 _c7|                 _c8|_c9| _c10|_c11|_c12|_c13|_c14|_c15|_c16| _c17|_c18|_c19|          _c20|_c21|_c22|_c23|                _c24|                _c25|         _c26|     _c27|\n",
      "+--------+---+-------+----------------+----------+----------+-----+--------------------+--------------------+---+-----+----+----+----+----+----+----+-----+----+----+--------------+----+----+----+--------------------+--------------------+-------------+---------+\n",
      "|20110016|T13|2003235|  Structure Fire|01/11/2002|01/10/2002|Other|01/11/2002 01:51:...|2000 Block of CAL...| SF|94109| B04|  38|3362|   3|   3|   3|false|null|   1|         TRUCK|   2|   4|   5|     Pacific Heights|(37.7895840679362...|020110016-T13|     2.95|\n",
      "|20110022|M17|2003241|Medical Incident|01/11/2002|01/10/2002|Other|01/11/2002 03:01:...|0 Block of SILVER...| SF|94124| B10|  42|6495|   3|   3|   3| true|null|   1|         MEDIC|   1|  10|  10|Bayview Hunters P...|(37.7337623673897...|020110022-M17|      4.7|\n",
      "|20110023|M41|2003242|Medical Incident|01/11/2002|01/10/2002|Other|01/11/2002 02:39:...|MARKET ST/MCALLIS...| SF|94102| B03|  01|1455|   3|   3|   3| true|null|   1|         MEDIC|   2|   3|   6|          Tenderloin|(37.7811772186856...|020110023-M41|2.4333334|\n",
      "|20110032|E11|2003250|    Vehicle Fire|01/11/2002|01/10/2002|Other|01/11/2002 04:16:...|APPLETON AV/MISSI...| SF|94110| B06|  32|5626|   3|   3|   3|false|null|   1|        ENGINE|   1|   6|   9|      Bernal Heights|(37.7388432849018...|020110032-E11|      1.5|\n",
      "|20110043|B04|2003259|          Alarms|01/11/2002|01/10/2002|Other|01/11/2002 06:01:...|1400 Block of SUT...| SF|94109| B04|  03|3223|   3|   3|   3|false|null|   1|         CHIEF|   2|   4|   2|    Western Addition|(37.7872890372638...|020110043-B04|3.4833333|\n",
      "|20110072|T08|2003279|  Structure Fire|01/11/2002|01/11/2002|Other|01/11/2002 08:03:...|  BEALE ST/FOLSOM ST| SF|94105| B03|  35|2122|   3|   3|   3|false|null|   1|         TRUCK|   2|   3|   6|Financial Distric...|(37.7886866619654...|020110072-T08|     1.75|\n",
      "|20110125|E33|2003301|          Alarms|01/11/2002|01/11/2002|Other|01/11/2002 09:46:...|0 Block of FARALL...| SF|94112| B09|  33|8324|   3|   3|   3|false|null|   1|        ENGINE|   2|   9|  11|Oceanview/Merced/...|(37.7140353531157...|020110125-E33|2.7166667|\n",
      "|20110130|E36|2003304|          Alarms|01/11/2002|01/11/2002|Other|01/11/2002 09:58:...|600 Block of POLK ST| SF|94102| B02|  03|3114|   3|   3|   3|false|null|   1|        ENGINE|   1|   2|   6|          Tenderloin|(37.7826266328595...|020110130-E36|1.7833333|\n",
      "|20110197|E05|2003343|Medical Incident|01/11/2002|01/11/2002|Other|01/11/2002 12:06:...|1500 Block of WEB...| SF|94115| B04|  05|3513|   3|   3|   3|false|null|   1|        ENGINE|   1|   4|   5|           Japantown|(37.784958590666,...|020110197-E05|1.5166667|\n",
      "|20110215|E06|2003348|Medical Incident|01/11/2002|01/11/2002|Other|01/11/2002 01:08:...|DIAMOND ST/MARKET ST| SF|94114| B05|  06|5415|   3|   3|   3|false|null|   1|        ENGINE|   1|   5|   8| Castro/Upper Market|(37.7618954753708...|020110215-E06|2.7666667|\n",
      "|20110274|M07|2003381|Medical Incident|01/11/2002|01/11/2002|Other|01/11/2002 03:31:...|2700 Block of MIS...| SF|94110| B06|  11|5525|   1|   1|   2| true|null|   1|         MEDIC|   1|   6|   9|             Mission|(37.7530339738059...|020110274-M07|2.1833334|\n",
      "|20110275|T15|2003382|  Structure Fire|01/11/2002|01/11/2002|Other|01/11/2002 02:59:...|BRUNSWICK ST/GUTT...| SF|94112| B09|  43|6218|   3|   3|   3|false|null|   1|         TRUCK|   1|   9|  11|           Excelsior|(37.7105545807996...|020110275-T15|      2.5|\n",
      "|20110304|E03|2003399|Medical Incident|01/11/2002|01/11/2002|Other|01/11/2002 04:22:...|1000 Block of SUT...| SF|94109| B04|  03|1557|   3|   3|   3|false|null|   1|        ENGINE|   1|   4|   3|            Nob Hill|(37.7881263034393...|020110304-E03|2.4166667|\n",
      "|20110308|E14|2003403|Medical Incident|01/11/2002|01/11/2002|Other|01/11/2002 04:18:...|100 Block of 21ST...| SF|94121| B07|  14|7173|   3|   3|   3|false|null|   1|        ENGINE|   1|   7|   1|      Outer Richmond|(37.7850084431077...|020110308-E14|     4.95|\n",
      "|20110313|B10|2003408|  Structure Fire|01/11/2002|01/11/2002|Other|01/11/2002 04:09:...|700 Block of CAPP ST| SF|94110| B06|  07|5472|   3|   3|   3|false|null|   1|         CHIEF|   6|   6|   9|             Mission|(37.7547064357942...|020110313-B10|1.4166666|\n",
      "|20110313| D3|2003408|  Structure Fire|01/11/2002|01/11/2002|Other|01/11/2002 04:09:...|700 Block of CAPP ST| SF|94110| B06|  07|5472|   3|   3|   3|false|null|   1|         CHIEF|   4|   6|   9|             Mission|(37.7547064357942...| 020110313-D3|2.5333333|\n",
      "|20110313|E32|2003408|  Structure Fire|01/11/2002|01/11/2002|Other|01/11/2002 04:09:...|700 Block of CAPP ST| SF|94110| B06|  07|5472|   3|   3|   3| true|null|   1|        ENGINE|   8|   6|   9|             Mission|(37.7547064357942...|020110313-E32|1.8833333|\n",
      "|20110315|RC2|2003409|Medical Incident|01/11/2002|01/11/2002|Other|01/11/2002 04:34:...|200 Block of LAGU...| SF|94116| B08|  20|8635|   3|   3|   3| true|null|   1|RESCUE CAPTAIN|   2|   8|   7|  West of Twin Peaks|(37.7501117393668...|020110315-RC2|     5.35|\n",
      "|20110330|E14|2003417|Medical Incident|01/11/2002|01/11/2002|Other|01/11/2002 04:51:...|BALBOA ST/PARK PR...| SF|94118| B07|  31|7145|   3|   3|   3|false|null|   1|        ENGINE|   1|   7|   1|      Inner Richmond|(37.7768682293368...|020110330-E14|      2.0|\n",
      "|20110330|M12|2003417|Medical Incident|01/11/2002|01/11/2002|Other|01/11/2002 04:51:...|BALBOA ST/PARK PR...| SF|94118| B07|  31|7145|   3|   3|   3| true|null|   1|         MEDIC|   2|   7|   1|      Inner Richmond|(37.7768682293368...|020110330-M12|1.8166667|\n",
      "+--------+---+-------+----------------+----------+----------+-----+--------------------+--------------------+---+-----+----+----+----+----+----+----+-----+----+----+--------------+----+----+----+--------------------+--------------------+-------------+---------+\n",
      "only showing top 20 rows\n",
      "\n"
     ]
    }
   ],
   "source": [
    "df2.show()"
   ]
  },
  {
   "cell_type": "markdown",
   "id": "d66032d6-b41e-4872-b973-1066e5d9541c",
   "metadata": {},
   "source": [
    "Leer los archivos JSON"
   ]
  },
  {
   "cell_type": "code",
   "execution_count": 18,
   "id": "b8b562f9-6988-49f2-aecf-206397a62e9e",
   "metadata": {},
   "outputs": [],
   "source": [
    "csv_file_json = \"gs://bosonit_spark/archivos/fire_calls.json/*\""
   ]
  },
  {
   "cell_type": "code",
   "execution_count": 19,
   "id": "bd84e2fe-047d-4ea5-ba51-779588f58c11",
   "metadata": {},
   "outputs": [
    {
     "name": "stderr",
     "output_type": "stream",
     "text": [
      "                                                                                \r"
     ]
    }
   ],
   "source": [
    "df3 = (spark.read.format(\"json\").load(csv_file_json))"
   ]
  },
  {
   "cell_type": "code",
   "execution_count": 20,
   "id": "dea48915-bfe0-4417-a251-666965ed4013",
   "metadata": {},
   "outputs": [
    {
     "name": "stdout",
     "output_type": "stream",
     "text": [
      "+-------+--------------------+--------------------+---------+----+----------+--------------------+----------+----------------+-------------+----+---------+-------------+----------------------+--------------+--------------------+--------------------+---------+----------------+--------+-------------+-----------+------------------+------+--------------------------+--------------+----------+-------+\n",
      "|ALSUnit|             Address|       AvailableDtTm|Battalion| Box|  CallDate|CallFinalDisposition|CallNumber|        CallType|CallTypeGroup|City|    Delay|FinalPriority|FirePreventionDistrict|IncidentNumber|            Location|        Neighborhood|NumAlarms|OriginalPriority|Priority|        RowID|StationArea|SupervisorDistrict|UnitID|UnitSequenceInCallDispatch|      UnitType| WatchDate|Zipcode|\n",
      "+-------+--------------------+--------------------+---------+----+----------+--------------------+----------+----------------+-------------+----+---------+-------------+----------------------+--------------+--------------------+--------------------+---------+----------------+--------+-------------+-----------+------------------+------+--------------------------+--------------+----------+-------+\n",
      "|  false|2000 Block of CAL...|01/11/2002 01:51:...|      B04|3362|01/11/2002|               Other|  20110016|  Structure Fire|         null|  SF|     2.95|            3|                     4|       2003235|(37.7895840679362...|     Pacific Heights|        1|               3|       3|020110016-T13|         38|                 5|   T13|                         2|         TRUCK|01/10/2002|  94109|\n",
      "|   true|0 Block of SILVER...|01/11/2002 03:01:...|      B10|6495|01/11/2002|               Other|  20110022|Medical Incident|         null|  SF|      4.7|            3|                    10|       2003241|(37.7337623673897...|Bayview Hunters P...|        1|               3|       3|020110022-M17|         42|                10|   M17|                         1|         MEDIC|01/10/2002|  94124|\n",
      "|   true|MARKET ST/MCALLIS...|01/11/2002 02:39:...|      B03|1455|01/11/2002|               Other|  20110023|Medical Incident|         null|  SF|2.4333334|            3|                     3|       2003242|(37.7811772186856...|          Tenderloin|        1|               3|       3|020110023-M41|         01|                 6|   M41|                         2|         MEDIC|01/10/2002|  94102|\n",
      "|  false|APPLETON AV/MISSI...|01/11/2002 04:16:...|      B06|5626|01/11/2002|               Other|  20110032|    Vehicle Fire|         null|  SF|      1.5|            3|                     6|       2003250|(37.7388432849018...|      Bernal Heights|        1|               3|       3|020110032-E11|         32|                 9|   E11|                         1|        ENGINE|01/10/2002|  94110|\n",
      "|  false|1400 Block of SUT...|01/11/2002 06:01:...|      B04|3223|01/11/2002|               Other|  20110043|          Alarms|         null|  SF|3.4833333|            3|                     4|       2003259|(37.7872890372638...|    Western Addition|        1|               3|       3|020110043-B04|         03|                 2|   B04|                         2|         CHIEF|01/10/2002|  94109|\n",
      "|  false|  BEALE ST/FOLSOM ST|01/11/2002 08:03:...|      B03|2122|01/11/2002|               Other|  20110072|  Structure Fire|         null|  SF|     1.75|            3|                     3|       2003279|(37.7886866619654...|Financial Distric...|        1|               3|       3|020110072-T08|         35|                 6|   T08|                         2|         TRUCK|01/11/2002|  94105|\n",
      "|  false|0 Block of FARALL...|01/11/2002 09:46:...|      B09|8324|01/11/2002|               Other|  20110125|          Alarms|         null|  SF|2.7166667|            3|                     9|       2003301|(37.7140353531157...|Oceanview/Merced/...|        1|               3|       3|020110125-E33|         33|                11|   E33|                         2|        ENGINE|01/11/2002|  94112|\n",
      "|  false|600 Block of POLK ST|01/11/2002 09:58:...|      B02|3114|01/11/2002|               Other|  20110130|          Alarms|         null|  SF|1.7833333|            3|                     2|       2003304|(37.7826266328595...|          Tenderloin|        1|               3|       3|020110130-E36|         03|                 6|   E36|                         1|        ENGINE|01/11/2002|  94102|\n",
      "|  false|1500 Block of WEB...|01/11/2002 12:06:...|      B04|3513|01/11/2002|               Other|  20110197|Medical Incident|         null|  SF|1.5166667|            3|                     4|       2003343|(37.784958590666,...|           Japantown|        1|               3|       3|020110197-E05|         05|                 5|   E05|                         1|        ENGINE|01/11/2002|  94115|\n",
      "|  false|DIAMOND ST/MARKET ST|01/11/2002 01:08:...|      B05|5415|01/11/2002|               Other|  20110215|Medical Incident|         null|  SF|2.7666667|            3|                     5|       2003348|(37.7618954753708...| Castro/Upper Market|        1|               3|       3|020110215-E06|         06|                 8|   E06|                         1|        ENGINE|01/11/2002|  94114|\n",
      "|   true|2700 Block of MIS...|01/11/2002 03:31:...|      B06|5525|01/11/2002|               Other|  20110274|Medical Incident|         null|  SF|2.1833334|            2|                     6|       2003381|(37.7530339738059...|             Mission|        1|               1|       1|020110274-M07|         11|                 9|   M07|                         1|         MEDIC|01/11/2002|  94110|\n",
      "|  false|BRUNSWICK ST/GUTT...|01/11/2002 02:59:...|      B09|6218|01/11/2002|               Other|  20110275|  Structure Fire|         null|  SF|      2.5|            3|                     9|       2003382|(37.7105545807996...|           Excelsior|        1|               3|       3|020110275-T15|         43|                11|   T15|                         1|         TRUCK|01/11/2002|  94112|\n",
      "|  false|1000 Block of SUT...|01/11/2002 04:22:...|      B04|1557|01/11/2002|               Other|  20110304|Medical Incident|         null|  SF|2.4166667|            3|                     4|       2003399|(37.7881263034393...|            Nob Hill|        1|               3|       3|020110304-E03|         03|                 3|   E03|                         1|        ENGINE|01/11/2002|  94109|\n",
      "|  false|100 Block of 21ST...|01/11/2002 04:18:...|      B07|7173|01/11/2002|               Other|  20110308|Medical Incident|         null|  SF|     4.95|            3|                     7|       2003403|(37.7850084431077...|      Outer Richmond|        1|               3|       3|020110308-E14|         14|                 1|   E14|                         1|        ENGINE|01/11/2002|  94121|\n",
      "|  false|700 Block of CAPP ST|01/11/2002 04:09:...|      B06|5472|01/11/2002|               Other|  20110313|  Structure Fire|         null|  SF|1.4166666|            3|                     6|       2003408|(37.7547064357942...|             Mission|        1|               3|       3|020110313-B10|         07|                 9|   B10|                         6|         CHIEF|01/11/2002|  94110|\n",
      "|  false|700 Block of CAPP ST|01/11/2002 04:09:...|      B06|5472|01/11/2002|               Other|  20110313|  Structure Fire|         null|  SF|2.5333333|            3|                     6|       2003408|(37.7547064357942...|             Mission|        1|               3|       3| 020110313-D3|         07|                 9|    D3|                         4|         CHIEF|01/11/2002|  94110|\n",
      "|   true|700 Block of CAPP ST|01/11/2002 04:09:...|      B06|5472|01/11/2002|               Other|  20110313|  Structure Fire|         null|  SF|1.8833333|            3|                     6|       2003408|(37.7547064357942...|             Mission|        1|               3|       3|020110313-E32|         07|                 9|   E32|                         8|        ENGINE|01/11/2002|  94110|\n",
      "|   true|200 Block of LAGU...|01/11/2002 04:34:...|      B08|8635|01/11/2002|               Other|  20110315|Medical Incident|         null|  SF|     5.35|            3|                     8|       2003409|(37.7501117393668...|  West of Twin Peaks|        1|               3|       3|020110315-RC2|         20|                 7|   RC2|                         2|RESCUE CAPTAIN|01/11/2002|  94116|\n",
      "|  false|BALBOA ST/PARK PR...|01/11/2002 04:51:...|      B07|7145|01/11/2002|               Other|  20110330|Medical Incident|         null|  SF|      2.0|            3|                     7|       2003417|(37.7768682293368...|      Inner Richmond|        1|               3|       3|020110330-E14|         31|                 1|   E14|                         1|        ENGINE|01/11/2002|  94118|\n",
      "|   true|BALBOA ST/PARK PR...|01/11/2002 04:51:...|      B07|7145|01/11/2002|               Other|  20110330|Medical Incident|         null|  SF|1.8166667|            3|                     7|       2003417|(37.7768682293368...|      Inner Richmond|        1|               3|       3|020110330-M12|         31|                 1|   M12|                         2|         MEDIC|01/11/2002|  94118|\n",
      "+-------+--------------------+--------------------+---------+----+----------+--------------------+----------+----------------+-------------+----+---------+-------------+----------------------+--------------+--------------------+--------------------+---------+----------------+--------+-------------+-----------+------------------+------+--------------------------+--------------+----------+-------+\n",
      "only showing top 20 rows\n",
      "\n"
     ]
    }
   ],
   "source": [
    "df3.show()"
   ]
  },
  {
   "cell_type": "markdown",
   "id": "6e2ed611-7c05-40ea-9302-a04f0ffa8e44",
   "metadata": {},
   "source": [
    "Leer archivos PARQUET"
   ]
  },
  {
   "cell_type": "code",
   "execution_count": 21,
   "id": "f87627cf-b913-4794-ac74-f94d8d191176",
   "metadata": {},
   "outputs": [],
   "source": [
    "csv_file_parquet = \"gs://bosonit_spark/archivos/df_parquet/*\""
   ]
  },
  {
   "cell_type": "code",
   "execution_count": 23,
   "id": "a644f0fc-642f-46fe-96a9-15ff61ceba69",
   "metadata": {},
   "outputs": [
    {
     "name": "stderr",
     "output_type": "stream",
     "text": [
      "                                                                                \r"
     ]
    }
   ],
   "source": [
    "df4 = (spark.read.format(\"parquet\").load(csv_file_parquet))"
   ]
  },
  {
   "cell_type": "code",
   "execution_count": 24,
   "id": "79e6f27e-c5f4-4249-add8-dff87de6688e",
   "metadata": {},
   "outputs": [
    {
     "name": "stderr",
     "output_type": "stream",
     "text": [
      "[Stage 10:>                                                         (0 + 1) / 1]\r"
     ]
    },
    {
     "name": "stdout",
     "output_type": "stream",
     "text": [
      "+----------+------+--------------+----------------+----------+----------+--------------------+--------------------+--------------------+----+-------+---------+-----------+----+----------------+--------+-------------+-------+-------------+---------+--------------+--------------------------+----------------------+------------------+--------------------+--------------------+-------------+---------+\n",
      "|CallNumber|UnitID|IncidentNumber|        CallType|  CallDate| WatchDate|CallFinalDisposition|       AvailableDtTm|             Address|City|Zipcode|Battalion|StationArea| Box|OriginalPriority|Priority|FinalPriority|ALSUnit|CallTypeGroup|NumAlarms|      UnitType|UnitSequenceInCallDispatch|FirePreventionDistrict|SupervisorDistrict|        Neighborhood|            Location|        RowID|    Delay|\n",
      "+----------+------+--------------+----------------+----------+----------+--------------------+--------------------+--------------------+----+-------+---------+-----------+----+----------------+--------+-------------+-------+-------------+---------+--------------+--------------------------+----------------------+------------------+--------------------+--------------------+-------------+---------+\n",
      "|  20110016|   T13|       2003235|  Structure Fire|01/11/2002|01/10/2002|               Other|01/11/2002 01:51:...|2000 Block of CAL...|  SF|  94109|      B04|         38|3362|               3|       3|            3|  false|         null|        1|         TRUCK|                         2|                     4|                 5|     Pacific Heights|(37.7895840679362...|020110016-T13|     2.95|\n",
      "|  20110022|   M17|       2003241|Medical Incident|01/11/2002|01/10/2002|               Other|01/11/2002 03:01:...|0 Block of SILVER...|  SF|  94124|      B10|         42|6495|               3|       3|            3|   true|         null|        1|         MEDIC|                         1|                    10|                10|Bayview Hunters P...|(37.7337623673897...|020110022-M17|      4.7|\n",
      "|  20110023|   M41|       2003242|Medical Incident|01/11/2002|01/10/2002|               Other|01/11/2002 02:39:...|MARKET ST/MCALLIS...|  SF|  94102|      B03|         01|1455|               3|       3|            3|   true|         null|        1|         MEDIC|                         2|                     3|                 6|          Tenderloin|(37.7811772186856...|020110023-M41|2.4333334|\n",
      "|  20110032|   E11|       2003250|    Vehicle Fire|01/11/2002|01/10/2002|               Other|01/11/2002 04:16:...|APPLETON AV/MISSI...|  SF|  94110|      B06|         32|5626|               3|       3|            3|  false|         null|        1|        ENGINE|                         1|                     6|                 9|      Bernal Heights|(37.7388432849018...|020110032-E11|      1.5|\n",
      "|  20110043|   B04|       2003259|          Alarms|01/11/2002|01/10/2002|               Other|01/11/2002 06:01:...|1400 Block of SUT...|  SF|  94109|      B04|         03|3223|               3|       3|            3|  false|         null|        1|         CHIEF|                         2|                     4|                 2|    Western Addition|(37.7872890372638...|020110043-B04|3.4833333|\n",
      "|  20110072|   T08|       2003279|  Structure Fire|01/11/2002|01/11/2002|               Other|01/11/2002 08:03:...|  BEALE ST/FOLSOM ST|  SF|  94105|      B03|         35|2122|               3|       3|            3|  false|         null|        1|         TRUCK|                         2|                     3|                 6|Financial Distric...|(37.7886866619654...|020110072-T08|     1.75|\n",
      "|  20110125|   E33|       2003301|          Alarms|01/11/2002|01/11/2002|               Other|01/11/2002 09:46:...|0 Block of FARALL...|  SF|  94112|      B09|         33|8324|               3|       3|            3|  false|         null|        1|        ENGINE|                         2|                     9|                11|Oceanview/Merced/...|(37.7140353531157...|020110125-E33|2.7166667|\n",
      "|  20110130|   E36|       2003304|          Alarms|01/11/2002|01/11/2002|               Other|01/11/2002 09:58:...|600 Block of POLK ST|  SF|  94102|      B02|         03|3114|               3|       3|            3|  false|         null|        1|        ENGINE|                         1|                     2|                 6|          Tenderloin|(37.7826266328595...|020110130-E36|1.7833333|\n",
      "|  20110197|   E05|       2003343|Medical Incident|01/11/2002|01/11/2002|               Other|01/11/2002 12:06:...|1500 Block of WEB...|  SF|  94115|      B04|         05|3513|               3|       3|            3|  false|         null|        1|        ENGINE|                         1|                     4|                 5|           Japantown|(37.784958590666,...|020110197-E05|1.5166667|\n",
      "|  20110215|   E06|       2003348|Medical Incident|01/11/2002|01/11/2002|               Other|01/11/2002 01:08:...|DIAMOND ST/MARKET ST|  SF|  94114|      B05|         06|5415|               3|       3|            3|  false|         null|        1|        ENGINE|                         1|                     5|                 8| Castro/Upper Market|(37.7618954753708...|020110215-E06|2.7666667|\n",
      "|  20110274|   M07|       2003381|Medical Incident|01/11/2002|01/11/2002|               Other|01/11/2002 03:31:...|2700 Block of MIS...|  SF|  94110|      B06|         11|5525|               1|       1|            2|   true|         null|        1|         MEDIC|                         1|                     6|                 9|             Mission|(37.7530339738059...|020110274-M07|2.1833334|\n",
      "|  20110275|   T15|       2003382|  Structure Fire|01/11/2002|01/11/2002|               Other|01/11/2002 02:59:...|BRUNSWICK ST/GUTT...|  SF|  94112|      B09|         43|6218|               3|       3|            3|  false|         null|        1|         TRUCK|                         1|                     9|                11|           Excelsior|(37.7105545807996...|020110275-T15|      2.5|\n",
      "|  20110304|   E03|       2003399|Medical Incident|01/11/2002|01/11/2002|               Other|01/11/2002 04:22:...|1000 Block of SUT...|  SF|  94109|      B04|         03|1557|               3|       3|            3|  false|         null|        1|        ENGINE|                         1|                     4|                 3|            Nob Hill|(37.7881263034393...|020110304-E03|2.4166667|\n",
      "|  20110308|   E14|       2003403|Medical Incident|01/11/2002|01/11/2002|               Other|01/11/2002 04:18:...|100 Block of 21ST...|  SF|  94121|      B07|         14|7173|               3|       3|            3|  false|         null|        1|        ENGINE|                         1|                     7|                 1|      Outer Richmond|(37.7850084431077...|020110308-E14|     4.95|\n",
      "|  20110313|   B10|       2003408|  Structure Fire|01/11/2002|01/11/2002|               Other|01/11/2002 04:09:...|700 Block of CAPP ST|  SF|  94110|      B06|         07|5472|               3|       3|            3|  false|         null|        1|         CHIEF|                         6|                     6|                 9|             Mission|(37.7547064357942...|020110313-B10|1.4166666|\n",
      "|  20110313|    D3|       2003408|  Structure Fire|01/11/2002|01/11/2002|               Other|01/11/2002 04:09:...|700 Block of CAPP ST|  SF|  94110|      B06|         07|5472|               3|       3|            3|  false|         null|        1|         CHIEF|                         4|                     6|                 9|             Mission|(37.7547064357942...| 020110313-D3|2.5333333|\n",
      "|  20110313|   E32|       2003408|  Structure Fire|01/11/2002|01/11/2002|               Other|01/11/2002 04:09:...|700 Block of CAPP ST|  SF|  94110|      B06|         07|5472|               3|       3|            3|   true|         null|        1|        ENGINE|                         8|                     6|                 9|             Mission|(37.7547064357942...|020110313-E32|1.8833333|\n",
      "|  20110315|   RC2|       2003409|Medical Incident|01/11/2002|01/11/2002|               Other|01/11/2002 04:34:...|200 Block of LAGU...|  SF|  94116|      B08|         20|8635|               3|       3|            3|   true|         null|        1|RESCUE CAPTAIN|                         2|                     8|                 7|  West of Twin Peaks|(37.7501117393668...|020110315-RC2|     5.35|\n",
      "|  20110330|   E14|       2003417|Medical Incident|01/11/2002|01/11/2002|               Other|01/11/2002 04:51:...|BALBOA ST/PARK PR...|  SF|  94118|      B07|         31|7145|               3|       3|            3|  false|         null|        1|        ENGINE|                         1|                     7|                 1|      Inner Richmond|(37.7768682293368...|020110330-E14|      2.0|\n",
      "|  20110330|   M12|       2003417|Medical Incident|01/11/2002|01/11/2002|               Other|01/11/2002 04:51:...|BALBOA ST/PARK PR...|  SF|  94118|      B07|         31|7145|               3|       3|            3|   true|         null|        1|         MEDIC|                         2|                     7|                 1|      Inner Richmond|(37.7768682293368...|020110330-M12|1.8166667|\n",
      "+----------+------+--------------+----------------+----------+----------+--------------------+--------------------+--------------------+----+-------+---------+-----------+----+----------------+--------+-------------+-------+-------------+---------+--------------+--------------------------+----------------------+------------------+--------------------+--------------------+-------------+---------+\n",
      "only showing top 20 rows\n",
      "\n"
     ]
    },
    {
     "name": "stderr",
     "output_type": "stream",
     "text": [
      "                                                                                \r"
     ]
    }
   ],
   "source": [
    "df4.show()"
   ]
  },
  {
   "cell_type": "code",
   "execution_count": null,
   "id": "af34242c-2f04-41b9-805c-df01bc868f76",
   "metadata": {},
   "outputs": [],
   "source": []
  }
 ],
 "metadata": {
  "kernelspec": {
   "display_name": "PySpark",
   "language": "python",
   "name": "pyspark"
  },
  "language_info": {
   "codemirror_mode": {
    "name": "ipython",
    "version": 3
   },
   "file_extension": ".py",
   "mimetype": "text/x-python",
   "name": "python",
   "nbconvert_exporter": "python",
   "pygments_lexer": "ipython3",
   "version": "3.8.12"
  }
 },
 "nbformat": 4,
 "nbformat_minor": 5
}
